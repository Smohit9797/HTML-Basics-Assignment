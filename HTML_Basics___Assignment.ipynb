{
  "nbformat": 4,
  "nbformat_minor": 0,
  "metadata": {
    "colab": {
      "provenance": []
    },
    "kernelspec": {
      "name": "python3",
      "display_name": "Python 3"
    },
    "language_info": {
      "name": "python"
    }
  },
  "cells": [
    {
      "cell_type": "markdown",
      "source": [
        "# HTML Basics"
      ],
      "metadata": {
        "id": "8lMys8Wyrqwm"
      }
    },
    {
      "cell_type": "markdown",
      "source": [
        "1 : Explain the basic structure of an HTML page. Why is it important to follow this structure?\n",
        "\n",
        "   ->Full form of HTML is Hyper text markup language. It is a markup language that is used to create web pages.\n",
        "   \n",
        "   Basic structure of an HTML page:-\n",
        "\n",
        "   It is important to follow the basic structure becasuse it helps to organize the content of a webpage with logic in it."
      ],
      "metadata": {
        "id": "sWC0hN8lsZSd"
      }
    },
    {
      "cell_type": "code",
      "source": [
        "<!DOCTYPE html>\n",
        "<html  lang=\"en\">\n",
        "<head>\n",
        "  <meta charset=\"UTF-8\"/>\n",
        "  <meta name=\"viewport\" content=\"width=width-device, initial scale=1.0\"/>\n",
        "  <title>Hello World</title>\n",
        "</head>\n",
        "<body>\n",
        "  <h1>Welcome to my world</h1>\n",
        "  <p>This is my hello world</p>\n",
        "</body>\n",
        "</html>\n"
      ],
      "metadata": {
        "collapsed": true,
        "id": "0NMmwUPTw8L5"
      },
      "execution_count": null,
      "outputs": []
    },
    {
      "cell_type": "markdown",
      "metadata": {
        "id": "416d4a58"
      },
      "source": [
        "<!DOCTYPE html>\n",
        "<html lang=\"en\">\n",
        "<head>\n",
        "<meta charset=\"UTF-8\"/>\n",
        "<meta name=\"viewport\" content=\"width=device-width, initial-scale=1.0\"/>\n",
        "<title>Hello World</title>\n",
        "</head>\n",
        "<body>\n",
        "<h1>Welcome to my world</h1>\n",
        "<p>This is my hello world</p>\n",
        "</body>\n",
        "</html>"
      ]
    },
    {
      "cell_type": "markdown",
      "source": [
        "2.You're building a small personal profile page.Which HTMl tags will you use to highlight your name as a heading, describe yourself in a paragraph,and emphasize a key skill?\n",
        "\n",
        "   ->There is a tag 'mark' which is used to highlight the words which we want to highlight.\n",
        "\n",
        "   Example of highlighting my name in a heading using tag <mark>"
      ],
      "metadata": {
        "id": "Yf_1r9Tj0K31"
      }
    },
    {
      "cell_type": "code",
      "source": [
        "<!DOCTYPE HTML>\n",
        "<html lang=\"en>\"\n",
        "<head>\n",
        "     <title>Profile</title>\n",
        "</head>\n",
        "<body>\n",
        "     <h1>My Name is <mark>Smohit</mark> Sharma<h1>\n",
        "     <p>The mark tag helps to highlight the words we want to highlight<p>\n",
        "</body>\n",
        "</html>"
      ],
      "metadata": {
        "id": "gXTU1F-T1GZx"
      },
      "execution_count": null,
      "outputs": []
    },
    {
      "cell_type": "markdown",
      "source": [
        " 3:Look at the code below. Can you find and fix the mistake?\n",
        "<!-- This is an HTML comment\n",
        "<h1>Welcome to my website</h1>\n",
        "\n",
        "  "
      ],
      "metadata": {
        "id": "0OtfOUwoDX6C"
      }
    },
    {
      "cell_type": "markdown",
      "source": [
        "   ->Here is the correct code for given above:In this code the error is not close the comment element that's why the comment has shown in a html code result.\n",
        "\n",
        "   <!--This is an HTML comment-->\n",
        "    <h1>Welcome to my website</h1>"
      ],
      "metadata": {
        "id": "7jPlDn9KEK3J"
      }
    },
    {
      "cell_type": "markdown",
      "source": [
        "4: You’re creating a form that asks the user to enter their name, select their country from a list, and click a button to submit. Write the HTML code for this."
      ],
      "metadata": {
        "id": "oSfuRcDmFWoj"
      }
    },
    {
      "cell_type": "code",
      "source": [
        "<!DOCTYPE html>\n",
        "<html lang=\"en\">\n",
        "<head>\n",
        "     <meta charset=\"UTF-8\"\n",
        "     <meta name=\"viewwport\" content=\"width=device-width\", initial-scale=\"1.0\">\n",
        "     <title>formassignment</title>\n",
        "<body>\n",
        "     <form action=\"/signup_process\" method=\"post\">\n",
        "     <h1>Sign Up</h1>\n",
        "     <label for=\"name\">Enter your Name</label>\n",
        "     <input type=\"text\" id=\"name\" name=\"name\" placeholder=\"Enter Name\"><br/><br/>\n",
        "     <h2>Select Your Country</h2>\n",
        "     <select>\n",
        "            <option value=\"india\">India</option>\n",
        "            <option value=\"america\">America</option>\n",
        "            <option value=\"canada\">Canada</option>\n",
        "            <option value=\"australia\">Australia</option>\n",
        "     </select><br/><br/>\n",
        "\n",
        "     <button type=\"submit\">Submit</button>\n",
        "</form>\n",
        "</body>\n",
        "</html>"
      ],
      "metadata": {
        "id": "SVPa8poxFfm5"
      },
      "execution_count": null,
      "outputs": []
    },
    {
      "cell_type": "markdown",
      "source": [
        "5: Write short HTML code to show your favorite fruits in a bulleted list and your top 3 programming languages in a numbered list."
      ],
      "metadata": {
        "id": "OZ04yZOkJTsF"
      }
    },
    {
      "cell_type": "code",
      "source": [
        "<!DOCTYPE html>\n",
        "<html lang=\"en\">\n",
        "<head>\n",
        "     <meta name=\"viewport\" content=\"width=device-width, initial-scale=1.0\"/>\n",
        "     <title>Fruits and Programming Languages</title>\n",
        "</head>\n",
        "<body>\n",
        "     <h1>Favuorite Fruits</h1>\n",
        "     <ul>\n",
        "        <li>Apple</li>\n",
        "        <li>Orange</li>\n",
        "        <li>Mango</li>\n",
        "        <li>Cherry</li>\n",
        "     </ul>\n",
        "\n",
        "  <h1>Top 3 Programming Langauages</h1>\n",
        "  <ol>\n",
        "     <li>Javascript</li>\n",
        "     <li>Python<li>\n",
        "     <li>Java<li>\n",
        "  </ol>\n",
        "</body>\n",
        "</html>\n"
      ],
      "metadata": {
        "id": "fEs_NTQ-J3T8"
      },
      "execution_count": null,
      "outputs": []
    },
    {
      "cell_type": "markdown",
      "source": [
        "6:Ravi wants to leave a note in his HTML file so that only other developers can see it, not the users on the website. How should he do this? Why are such notes useful?\n",
        "\n",
        "  -->For leaving a note in a html fie or a code without showing in a webpage or a output of a code, we use \"comment\" tag. It helps for other developers to get the better understanding of the code.\n",
        "  The comments helps to let other devlopers know purpose of the elements in a code."
      ],
      "metadata": {
        "id": "eoOncEaNOvIw"
      }
    },
    {
      "cell_type": "code",
      "source": [
        "<!doctype html>\n",
        "<html>\n",
        "<meta name=\"viewport\" content=\"device-width\",initial-scale=\"1.0\">\n",
        "<head>\n",
        "<title>document</title>\n",
        "</head>\n",
        "<body>\n",
        "<h1>To know comment Tag</h1>\n",
        "<!-- this is a single line comments -->\n",
        "<p>Single line</p>\n",
        "<!--\n",
        "This is a multiline\n",
        "comments\n",
        "-- >\n",
        "<p>Multiline</p>\n",
        "\n",
        "<p> This is a <!-- Inline --> Comment<p/>\n",
        "</body>\n",
        "</html>"
      ],
      "metadata": {
        "id": "vUeG1pRXR6bB"
      },
      "execution_count": null,
      "outputs": []
    },
    {
      "cell_type": "markdown",
      "source": [
        " 7: Here’s a form snippet. Can you spot the error and rewrite the correct version?\n",
        "<form>\n",
        "<input name=\"email\">\n",
        "<select>\n",
        "<option>India</option>\n",
        "</select>\n",
        "<button>Send</buton>\n",
        "</form>"
      ],
      "metadata": {
        "id": "83WuNxWZT9WU"
      }
    },
    {
      "cell_type": "code",
      "source": [
        "<form>\n",
        "<label for=\"email\">Email</label>\n",
        "<input type=\"email\" name=\"email\" id=\"email\" placeholder=\"Enter Email\">\n",
        "<select>\n",
        "<option value=\"india\">India</option>\n",
        "</select>\n",
        "<button>Send</button>\n",
        "</form>"
      ],
      "metadata": {
        "id": "f3fWPnvCULMx"
      },
      "execution_count": null,
      "outputs": []
    }
  ]
}